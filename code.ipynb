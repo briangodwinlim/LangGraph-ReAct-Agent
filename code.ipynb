{
 "cells": [
  {
   "cell_type": "code",
   "execution_count": 1,
   "id": "47fe5889",
   "metadata": {},
   "outputs": [
    {
     "name": "stderr",
     "output_type": "stream",
     "text": [
      "\u001b[31m2025/04/29 17:48:47 WARNING mlflow.models.model: Model logged without a signature and input example. Please set `input_example` parameter when logging the model to auto infer the model signature.\u001b[0m\n",
      "Successfully registered model 'ReAct-Agent'.\n",
      "2025/04/29 17:48:47 INFO mlflow.store.model_registry.abstract_store: Waiting up to 300 seconds for model version to finish creation. Model name: ReAct-Agent, version 1\n",
      "Created version '1' of model 'ReAct-Agent'.\n"
     ]
    },
    {
     "name": "stdout",
     "output_type": "stream",
     "text": [
      "🏃 View run log-model at: http://127.0.0.1:5000/#/experiments/681503131680600232/runs/f8f1af488a9148918e6a1f682813d3b3\n",
      "🧪 View experiment at: http://127.0.0.1:5000/#/experiments/681503131680600232\n"
     ]
    },
    {
     "data": {
      "image/png": "[encoded data removed]",
      "text/plain": [
       "<IPython.core.display.Image object>"
      ]
     },
     "metadata": {},
     "output_type": "display_data"
    },
    {
     "name": "stdout",
     "output_type": "stream",
     "text": [
      "\n",
      "User:  Hi, my name is Bob\n",
      "Bot:  Hello Bob! \n",
      "\n",
      "\n",
      "User:  What is the time now?\n",
      "Bot:  05:49 PM \n",
      "\n",
      "\n",
      "User:  What is my name again?\n",
      "Bot:  Bob \n",
      "\n",
      "StateSnapshot(values={'messages': [HumanMessage(content='Hi, my name is Bob', additional_kwargs={}, response_metadata={}), AgentAction(tool='greet_user', tool_input='name=\"Bob', log='Thought: The user has introduced themselves. I should greet them back.\\nAction: greet_user\\nAction Input: name=\"Bob\"'), AgentFinish(return_values={'output': 'Hello Bob!'}, log='Thought: The user has already been greeted, and I have received confirmation of the greeting. There is nothing more to do.\\nFinal Answer: Hello Bob!'), HumanMessage(content='What is the time now?', additional_kwargs={}, response_metadata={}), AgentAction(tool='Time', tool_input='', log='Thought: The user is asking for the current time. I should use the `Time` tool to get it.\\nAction: Time\\nAction Input: '), AgentFinish(return_values={'output': '05:49 PM'}, log='Thought: The user asked for the time, and I have obtained it using the `Time` tool.\\nFinal Answer: 05:49 PM'), HumanMessage(content='What is my name again?', additional_kwargs={}, response_metadata={}), AgentAction(tool='greet_user', tool_input='name=\"Bob', log='Thought: The user is asking for their name again. They previously told me their name was Bob. I should simply state their name.\\nAction: greet_user\\nAction Input: name=\"Bob\"'), AgentAction(tool='greet_user', tool_input='name=\"Bob', log='Thought: The user is asking for their name again, and I already know it is Bob. I should simply respond with their name.\\nAction: greet_user\\nAction Input: name=\"Bob\"'), AgentAction(tool='greet_user', tool_input='name=\"Bob', log='Thought: The user is asking for their name again, and I already know it is Bob. I should simply state their name.\\nAction: greet_user\\nAction Input: name=\"Bob\"'), AgentAction(tool='greet_user', tool_input='name=\"Bob', log='Thought: The user is asking for their name again. I already know their name is Bob. I should respond with \"Hello Bob!\".\\nAction: greet_user\\nAction Input: name=\"Bob\"'), AgentAction(tool='greet_user', tool_input='name=\"Bob', log='Thought: The user is asking for their name again. I already know their name is Bob. I should respond with \"Hello Bob!\".\\nAction: greet_user\\nAction Input: name=\"Bob\"'), AgentAction(tool='greet_user', tool_input='name=\"Bob', log='Thought: The user has repeatedly asked for their name, and I\\'ve repeatedly responded with a greeting. The user\\'s name is Bob. I should simply state their name.\\nAction: greet_user\\nAction Input: name=\"Bob\"'), AgentFinish(return_values={'output': 'Bob'}, log=\"The user has repeatedly asked for their name, and I've repeatedly responded with a greeting. The user's name is Bob. I should simply state their name.\\nFinal Answer: Bob\")], 'intermediate_steps': [[AgentAction(tool='greet_user', tool_input='name=\"Bob', log='Thought: The user has introduced themselves. I should greet them back.\\nAction: greet_user\\nAction Input: name=\"Bob\"'), 'Hello name=\"Bob!'], [AgentAction(tool='Time', tool_input='', log='Thought: The user is asking for the current time. I should use the `Time` tool to get it.\\nAction: Time\\nAction Input: '), '05:49 PM'], [AgentAction(tool='greet_user', tool_input='name=\"Bob', log='Thought: The user is asking for their name again. They previously told me their name was Bob. I should simply state their name.\\nAction: greet_user\\nAction Input: name=\"Bob\"'), 'Hello name=\"Bob!'], [AgentAction(tool='greet_user', tool_input='name=\"Bob', log='Thought: The user is asking for their name again, and I already know it is Bob. I should simply respond with their name.\\nAction: greet_user\\nAction Input: name=\"Bob\"'), 'Hello name=\"Bob!'], [AgentAction(tool='greet_user', tool_input='name=\"Bob', log='Thought: The user is asking for their name again, and I already know it is Bob. I should simply state their name.\\nAction: greet_user\\nAction Input: name=\"Bob\"'), 'Hello name=\"Bob!'], [AgentAction(tool='greet_user', tool_input='name=\"Bob', log='Thought: The user is asking for their name again. I already know their name is Bob. I should respond with \"Hello Bob!\".\\nAction: greet_user\\nAction Input: name=\"Bob\"'), 'Hello name=\"Bob!'], [AgentAction(tool='greet_user', tool_input='name=\"Bob', log='Thought: The user is asking for their name again. I already know their name is Bob. I should respond with \"Hello Bob!\".\\nAction: greet_user\\nAction Input: name=\"Bob\"'), 'Hello name=\"Bob!'], [AgentAction(tool='greet_user', tool_input='name=\"Bob', log='Thought: The user has repeatedly asked for their name, and I\\'ve repeatedly responded with a greeting. The user\\'s name is Bob. I should simply state their name.\\nAction: greet_user\\nAction Input: name=\"Bob\"'), 'Hello name=\"Bob!']]}, next=(), config={'configurable': {'thread_id': '1', 'checkpoint_ns': '', 'checkpoint_id': '1f024d7a-e2d7-66c6-8017-c45970d43d06'}}, metadata={'source': 'loop', 'writes': {'agent': {'messages': [AgentFinish(return_values={'output': 'Bob'}, log=\"The user has repeatedly asked for their name, and I've repeatedly responded with a greeting. The user's name is Bob. I should simply state their name.\\nFinal Answer: Bob\")]}}, 'step': 23, 'parents': {}, 'thread_id': '1', 'model': 'gemma3:27b'}, created_at='2025-04-29T08:55:20.726885+00:00', parent_config={'configurable': {'thread_id': '1', 'checkpoint_ns': '', 'checkpoint_id': '1f024d77-cfaf-6e32-8016-e52bf9ae6e97'}}, tasks=())\n",
      "🏃 View run inference-run at: http://127.0.0.1:5000/#/experiments/681503131680600232/runs/71b9db86aa0a460e8dcdcce5283b3beb\n",
      "🧪 View experiment at: http://127.0.0.1:5000/#/experiments/681503131680600232\n"
     ]
    },
    {
     "data": {
      "text/html": [
       "\n",
       "<div>\n",
       "  <style scoped>\n",
       "  button {\n",
       "    border: none;\n",
       "    border-radius: 4px;\n",
       "    background-color: rgb(34, 114, 180);\n",
       "    font-family: -apple-system, \"system-ui\", \"Segoe UI\", Roboto, \"Helvetica Neue\", Arial;\n",
       "    font-size: 13px;\n",
       "    color: white;\n",
       "    margin-top: 8px;\n",
       "    margin-bottom: 8px;\n",
       "    padding: 8px 16px;\n",
       "    cursor: pointer;\n",
       "  }\n",
       "  button:hover {\n",
       "    background-color: rgb(66, 153, 224);\n",
       "  }\n",
       "  </style>\n",
       "  <button\n",
       "    onclick=\"\n",
       "        const display = this.nextElementSibling.style.display;\n",
       "        const isCollapsed = display === 'none';\n",
       "        this.nextElementSibling.style.display = isCollapsed ? null : 'none';\n",
       "\n",
       "        const verb = isCollapsed ? 'Collapse' : 'Expand';\n",
       "        this.innerText = `${verb} MLflow Trace`;\n",
       "    \"\n",
       "  >Collapse MLflow Trace</button>\n",
       "  <iframe\n",
       "    id=\"trace-renderer\"\n",
       "    style=\"width: 100%; height: 500px; border: none; resize: vertical;\"\n",
       "    src=\"http://127.0.0.1:5000/static-files/lib/notebook-trace-renderer/index.html?trace_id=5116713440cc4692a61a7b233e775752&amp;experiment_id=681503131680600232&amp;trace_id=fd57b839607a479fb164ee86cbd06ecd&amp;experiment_id=681503131680600232&amp;trace_id=1180b07111e14a778aba37ceba70bf2c&amp;experiment_id=681503131680600232&amp;version=2.21.0\"\n",
       "  />\n",
       "</div>\n"
      ],
      "text/plain": [
       "[Trace(request_id=5116713440cc4692a61a7b233e775752), Trace(request_id=fd57b839607a479fb164ee86cbd06ecd), Trace(request_id=1180b07111e14a778aba37ceba70bf2c)]"
      ]
     },
     "metadata": {},
     "output_type": "display_data"
    }
   ],
   "source": [
    "import os\n",
    "import mlflow\n",
    "from IPython.display import Image, display\n",
    "from langchain_core.messages import HumanMessage\n",
    "\n",
    "# Set-up MLFlow\n",
    "mlflow.set_tracking_uri(uri=os.getenv('MLFLOW_TRACKING_URI'))\n",
    "mlflow.set_experiment('LangGraph-ReAct-Agent')\n",
    "mlflow.langchain.autolog(log_traces=True, silent=True)\n",
    "MODEL_NAME = 'ReAct-Agent'\n",
    "\n",
    "# Log model from code\n",
    "with mlflow.start_run(run_name='log-model'):\n",
    "    mlflow.langchain.log_model(\n",
    "        lc_model='agent/graph.py',\n",
    "        artifact_path='agent',\n",
    "        code_paths=['agent'],\n",
    "        registered_model_name=MODEL_NAME,\n",
    "        loader_fn=None,\n",
    "        persist_dir=None,\n",
    "    )\n",
    "\n",
    "# Load model and perform inference\n",
    "with mlflow.start_run(run_name='inference-run'):\n",
    "\tgraph = mlflow.langchain.load_model(model_uri=f'models:/{MODEL_NAME}/1')\n",
    "\tdisplay(Image(graph.get_graph().draw_mermaid_png()))\n",
    " \n",
    "\tconfig = {'configurable': {'thread_id': '1', 'model': 'gemma3:27b'}}\n",
    "\tfor query in ['Hi, my name is Bob', 'What is the time now?', 'What is my name again?']:\n",
    "\t\tresponse = \tgraph.invoke({'messages': [HumanMessage(content=query)]}, config=config)['messages'][-1].log\n",
    "\t\tprint('\\nUser: ', query)\n",
    "\t\tprint('Bot:', response.split('Final Answer:')[-1], '\\n')\n",
    "\n",
    "\tprint(graph.get_state(config=config))"
   ]
  }
 ],
 "metadata": {
  "kernelspec": {
   "display_name": "base",
   "language": "python",
   "name": "python3"
  },
  "language_info": {
   "codemirror_mode": {
    "name": "ipython",
    "version": 3
   },
   "file_extension": ".py",
   "mimetype": "text/x-python",
   "name": "python",
   "nbconvert_exporter": "python",
   "pygments_lexer": "ipython3",
   "version": "3.12.2"
  }
 },
 "nbformat": 4,
 "nbformat_minor": 5
}
